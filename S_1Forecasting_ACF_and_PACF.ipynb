{
  "nbformat": 4,
  "nbformat_minor": 0,
  "metadata": {
    "colab": {
      "provenance": []
    },
    "kernelspec": {
      "name": "python3",
      "display_name": "Python 3"
    },
    "language_info": {
      "name": "python"
    }
  },
  "cells": [
    {
      "cell_type": "markdown",
      "source": [
        "# Autocorrelation"
      ],
      "metadata": {
        "id": "TiBoDcgHAYU_"
      }
    },
    {
      "cell_type": "code",
      "execution_count": null,
      "metadata": {
        "id": "xCaPi0IqAJRP"
      },
      "outputs": [],
      "source": [
        "import pandas as pd\n",
        "import numpy as np\n",
        "from statsmodels.tsa.stattools import acf,pacf\n",
        "from statsmodels.graphics.tsaplots import plot_acf,plot_pacf\n",
        "import matplotlib.pyplot as plt\n",
        "# %matplotlib inline"
      ]
    },
    {
      "cell_type": "code",
      "source": [
        "df = pd.read_csv('/content/AirPassengers.csv',index_col='Month',parse_dates=True)\n",
        "df\n",
        "# Here month column is date type. We have made Month column as index column \n",
        "# and parse_dates=True tells python that Month is a date type column otherwise it will consider it as normal index."
      ],
      "metadata": {
        "id": "_wT9HUURA6rY"
      },
      "execution_count": null,
      "outputs": []
    },
    {
      "cell_type": "code",
      "source": [
        "plt.figure(figsize=(15,5))\n",
        "plt.plot(df)\n",
        "# Trend=Linear upward, Seasonality = Multiplicative"
      ],
      "metadata": {
        "id": "W-goNkSuB0dx"
      },
      "execution_count": null,
      "outputs": []
    },
    {
      "cell_type": "markdown",
      "source": [
        "The airline passenger dataset shows the no. of passengers per month from 1949 to 1960.\n",
        "\n",
        "Autocorrelation tells you : How much the passengers of this month and previous month (lag value of 1) are correlated.\n",
        "\n",
        "We can rephrase the question as: How correlated the no. of passengers this month is to the no. of passengers a year ago(lag value of 12). Yearly seasonality is visible from the chart.\n",
        "\n",
        "The more lags you use, the lower the correlation will be. more recent periods have more impact.\n",
        "\n"
      ],
      "metadata": {
        "id": "uzk7DWB5PeEM"
      }
    },
    {
      "cell_type": "code",
      "source": [
        "#plt.rcParams['figure.figsize']=(10,5)"
      ],
      "metadata": {
        "id": "DdfIVTspCwKl"
      },
      "execution_count": null,
      "outputs": []
    },
    {
      "cell_type": "code",
      "source": [
        "#First-order difference: diff() - To convert non-stationary data to stationary.\n",
        "# Stationary dataset: Mean, variance, std deviation is remaining constant throughout the years.\n",
        "#But graph shows that magnitude of cycle in increasing every year. i.e. no. of passangers in that airline is increasing every year.\n",
        "# So mean variance std deviance will also change.\n",
        "# 99% times your Time series data will be non-stationary in nature.\n",
        "\n",
        "df['Passengers_Diff']=df['Passengers'].diff(periods=1)\n",
        "# In df dataset Month is index. So we have only one column Passengers. Make Passengers column as stationary. Add Passengers_Diff column.\n",
        "#differencing takes interval of 1 step. For 1st record NAN will be there because before that no data is available. Next 118-112=6, 132-118=14 and so on\n",
        "#After differencing if we plot it it will be stationary.\n",
        "df"
      ],
      "metadata": {
        "id": "JiT2lOuMEGe9"
      },
      "execution_count": null,
      "outputs": []
    },
    {
      "cell_type": "code",
      "source": [
        "# remove null values - Single null value is there so no need to impute it. We can drop it\n",
        "\n",
        "df=df.dropna()"
      ],
      "metadata": {
        "id": "l9_rVG_wI7Hq"
      },
      "execution_count": null,
      "outputs": []
    },
    {
      "cell_type": "code",
      "source": [
        "df"
      ],
      "metadata": {
        "id": "oxpokbSwJQ8N"
      },
      "execution_count": null,
      "outputs": []
    },
    {
      "cell_type": "code",
      "source": [
        "#plot\n",
        "plt.title(\"Airline Passengers dataset with First-order difference\", size=20)\n",
        "plt.plot(df['Passengers'], label='Passengers')\n",
        "plt.plot(df['Passengers_Diff'], label='Fist-order difference',color='red')\n",
        "plt.legend()"
      ],
      "metadata": {
        "id": "NLrX81C8JSNm"
      },
      "execution_count": null,
      "outputs": []
    },
    {
      "cell_type": "code",
      "source": [
        "# Calculate Autocorrelation\n",
        "acf_values = acf(df['Passengers_Diff'])\n",
        "np.round(acf_values,2)\n",
        "# Prints autocorrelation of current data and all records i.e. 1-step lagged version, 2-step lagged version and so on.\n",
        "# First value 1 represents autocorr. between current data and itself. so don't consider this.\n",
        "# Highest is 12th period value: 0.83 i.e. 83%. It tells us a value 12 periods ago has a strong impact on the value today.\n"
      ],
      "metadata": {
        "colab": {
          "base_uri": "https://localhost:8080/"
        },
        "id": "sCpWZPM2KIHP",
        "outputId": "1ae1f969-aa7b-4c8b-cf07-18d3f508a51b"
      },
      "execution_count": null,
      "outputs": [
        {
          "output_type": "execute_result",
          "data": {
            "text/plain": [
              "array([ 1.  ,  0.3 , -0.1 , -0.24, -0.3 , -0.09, -0.08, -0.09, -0.29,\n",
              "       -0.19, -0.1 ,  0.28,  0.83,  0.28, -0.11, -0.22, -0.23, -0.06,\n",
              "       -0.07, -0.09, -0.3 , -0.16])"
            ]
          },
          "metadata": {},
          "execution_count": 8
        }
      ]
    },
    {
      "cell_type": "code",
      "source": [
        "# Plot ACF\n",
        "plot_acf(df['Passengers_Diff'], lags=30);\n",
        "# Blue shaded region is +-2 std error region. Anything within this region is non-significant\n",
        "# Yt-12 and current data has very high autocorrelation(0.83). Same trend can be seen after every one year.\n",
        "# So use Yt-12 and Yt-24 for model building as they are having very stron autocorrelation."
      ],
      "metadata": {
        "id": "fECdpLBVKl8V"
      },
      "execution_count": null,
      "outputs": []
    },
    {
      "cell_type": "markdown",
      "source": [
        "Plot confirms our assumption about the correlation on lag 12. The same is visible at lag 24, but the correlation declines over time. Value 12 periods ago has more impact on the value today than the value 24 years ago does.eg. Mobile price of last year will have high correlation with current year price than 2 years back price."
      ],
      "metadata": {
        "id": "Zb77AGGyT3hW"
      }
    },
    {
      "cell_type": "markdown",
      "source": [
        "# Partial Autocorrelation Function"
      ],
      "metadata": {
        "id": "xSvYQJ3SN9H9"
      }
    },
    {
      "cell_type": "markdown",
      "source": [
        "- Moving Average models do not rely on ACF. Many times it relies on PACF. \n",
        "\n",
        "- It shows the correlation of a sequence\n",
        "with itself lagged by some no. of time units. But here, only the direct effect is shown and all intermediary effects are removed.\n",
        "- For example, you want to know the direct relationship between no. of passangers today and 12 months ago. You don't care about anything in between.\n",
        "- The no. of passengers 12 months affects the no. of passengers 11 months ago - and the whole chain repeats untill the most recent period. These indirected effects are neglected in partial autocorrelation calculations. "
      ],
      "metadata": {
        "id": "HkwhXNrAdj9j"
      }
    },
    {
      "cell_type": "code",
      "source": [
        "# Calculate PACF\n",
        "pacf_values = pacf(df['Passengers_Diff'])\n",
        "np.round(pacf_values,2)\n",
        "# The correlation value at lag 12 has dropped to 0.61, indicating the direct relationship ia a bit weaker."
      ],
      "metadata": {
        "id": "PZ31kLv2NVFs",
        "colab": {
          "base_uri": "https://localhost:8080/"
        },
        "outputId": "4c586de8-0075-40c6-a469-0b1ec71d1898"
      },
      "execution_count": null,
      "outputs": [
        {
          "output_type": "execute_result",
          "data": {
            "text/plain": [
              "array([ 1.  ,  0.3 , -0.22, -0.16, -0.23,  0.01, -0.2 , -0.16, -0.49,\n",
              "       -0.28, -0.67, -0.42,  0.61, -0.05, -0.3 ,  0.02,  0.14,  0.09,\n",
              "       -0.12,  0.01, -0.22, -0.12])"
            ]
          },
          "metadata": {},
          "execution_count": 10
        }
      ]
    },
    {
      "cell_type": "code",
      "source": [
        "# Plot PACF\n",
        "plot_pacf(df['Passengers_Diff']);\n"
      ],
      "metadata": {
        "id": "iKSd9YOdMJ2C",
        "colab": {
          "base_uri": "https://localhost:8080/",
          "height": 336
        },
        "outputId": "2159eec5-0d01-4c3a-f54f-3de086a95e06"
      },
      "execution_count": null,
      "outputs": [
        {
          "output_type": "stream",
          "name": "stderr",
          "text": [
            "/usr/local/lib/python3.9/dist-packages/statsmodels/graphics/tsaplots.py:348: FutureWarning: The default method 'yw' can produce PACF values outside of the [-1,1] interval. After 0.13, the default will change tounadjusted Yule-Walker ('ywm'). You can use this method now by setting method='ywm'.\n",
            "  warnings.warn(\n"
          ]
        },
        {
          "output_type": "display_data",
          "data": {
            "text/plain": [
              "<Figure size 432x288 with 1 Axes>"
            ],
            "image/png": "[encoded data removed]"
          },
          "metadata": {
            "needs_background": "light"
          }
        }
      ]
    },
    {
      "cell_type": "code",
      "source": [],
      "metadata": {
        "id": "h0mnKPjvgdJ5"
      },
      "execution_count": null,
      "outputs": []
    }
  ]
}