{
  "nbformat": 4,
  "nbformat_minor": 0,
  "metadata": {
    "kernelspec": {
      "display_name": "Python 3",
      "language": "python",
      "name": "python3"
    },
    "language_info": {
      "codemirror_mode": {
        "name": "ipython",
        "version": 3
      },
      "file_extension": ".py",
      "mimetype": "text/x-python",
      "name": "python",
      "nbconvert_exporter": "python",
      "pygments_lexer": "ipython3",
      "version": "3.7.4"
    },
    "colab": {
      "provenance": []
    }
  },
  "cells": [
    {
      "cell_type": "code",
      "metadata": {
        "id": "LW3sfC7kDbZ2"
      },
      "source": [
        "import numpy as np\n",
        "import pandas as pd\n",
        "import matplotlib.pyplot as plt\n",
        "\n",
        "# We don't know the no. of clusters. So let's use K-Means and elbow method to choose this number of optimal clusters.\n",
        "from sklearn.cluster import KMeans"
      ],
      "execution_count": null,
      "outputs": []
    },
    {
      "cell_type": "code",
      "metadata": {
        "id": "pxwL_XiFDbZ7"
      },
      "source": [
        "Univ = pd.read_csv(\"Universities.csv\")\n",
        "Univ"
      ],
      "execution_count": null,
      "outputs": []
    },
    {
      "cell_type": "code",
      "metadata": {
        "id": "KLgWT1q0DbZ7"
      },
      "source": [
        "# Normalization / Standardisation function \n",
        "from sklearn.preprocessing import StandardScaler  # built in function for standardization\n",
        "scaler = StandardScaler() # scaler is an object name of StandardScalar class, you can give any name\n",
        "scaled_Univ_df = scaler.fit_transform(Univ.iloc[:,1:]) # fit_transform() is a method of StandardScalar class\n",
        "scaled_Univ_df"
      ],
      "execution_count": null,
      "outputs": []
    },
    {
      "cell_type": "code",
      "metadata": {
        "id": "943tultiDbZ8"
      },
      "source": [
        "# How to find optimum number of  cluster\n",
        "#The K-means algorithm aims to choose centroids that minimise the inertia, or within-cluster sum-of-squares criterion:"
      ],
      "execution_count": null,
      "outputs": []
    },
    {
      "cell_type": "code",
      "metadata": {
        "id": "UYmHQ15GDbZ8"
      },
      "source": [
        "# Inertia measures how well a dataset was clustered by K-Means. \n",
        "# It is calculated by measuring the distance between each data point and its centroid, squaring this distance, \n",
        "# and summing these squares across one cluster.\n",
        "# A good model is one with low inertia AND a low number of clusters (K).\n",
        "\n",
        "# To plot the elbow method graph, we need to compute the WCSS (Within Cluster Sum of Squares)\n",
        "# Let us say max. no. of clusters could be 10. \n",
        "# As we are going to have 10 iterations we are going to write a for loop to create a list of 10 WCSS for the no. of clusters\n",
        "\n",
        "wcss = [] # within cluster sum of square. Initialize WCSS and begin the loop\n",
        "for i in range(1, 11):\n",
        "    kmeans = KMeans(n_clusters=i,init='k-means++',max_iter=300,random_state=0)\n",
        "    kmeans.fit(scaled_Univ_df) #  use fit method to fit the kmeans object to our scaled dataframe\n",
        "    wcss.append(kmeans.inertia_)# another name for wcss is inertia. In WCSS list we will append all distances i.e if cluster is 10 what is the value, if 9 what is value and so on upto 1.\n",
        "    \n",
        "plt.plot(range(1, 11), wcss)\n",
        "plt.title('Elbow Method')\n",
        "plt.xlabel('Number of clusters')\n",
        "plt.ylabel('WCSS')\n",
        "plt.show()\n",
        "\n",
        "#init='k-means++': init is random initialization method. We can choose random if choice of initial centroid is to be random.\n",
        "# But as we don't want to fall into random initialization, we are going to use this initialization method.\n",
        "# ‘k-means++’ : selects initial cluster centroids using sampling, based on an empirical probability distribution of the points’.\n",
        "# It makes several trials at each sampling step and selects the best centroid among them.\n",
        "# Refer: https://scikit-learn.org/stable/modules/generated/sklearn.cluster.KMeans.html#:~:text=init%7B'k%2Dmeans%2B%2B,contribution%20to%20the%20overall%20inertia.\n",
        "# max_iter=300: Suppose dataset has 200 data points. We will make 10 clusters of 20 points each in 1st iteration. Such how many combinations you can form for data points?\n",
        "# so default value is 300. so we will keep it as it is.\n",
        "# random_state=0: Use an int to make the randomness deterministic i.e. same results every time. It determines random number generation for centroid initialization.\n"
      ],
      "execution_count": null,
      "outputs": []
    },
    {
      "cell_type": "code",
      "source": [
        "wcss"
      ],
      "metadata": {
        "id": "dXB-vY4Ou6zm"
      },
      "execution_count": null,
      "outputs": []
    },
    {
      "cell_type": "code",
      "metadata": {
        "id": "9czWpaj9Lk64"
      },
      "source": [
        "kmeans = KMeans(n_clusters=4,random_state=0) # pass no. of clusters as 4\n",
        "predict=kmeans.fit_predict(scaled_Univ_df)# assign cluster numbers to universities"
      ],
      "execution_count": null,
      "outputs": []
    },
    {
      "cell_type": "code",
      "source": [
        "predict"
      ],
      "metadata": {
        "id": "-j5l47pD6EKC",
        "colab": {
          "base_uri": "https://localhost:8080/"
        },
        "outputId": "df5d70de-1c7a-47cb-8a9d-864eb9aa5b06"
      },
      "execution_count": null,
      "outputs": [
        {
          "output_type": "execute_result",
          "data": {
            "text/plain": [
              "array([2, 3, 0, 2, 0, 2, 2, 0, 2, 3, 2, 0, 0, 1, 2, 1, 2, 1, 0, 0, 0, 0,\n",
              "       0, 1, 2], dtype=int32)"
            ]
          },
          "metadata": {},
          "execution_count": 20
        }
      ]
    },
    {
      "cell_type": "code",
      "source": [
        "clusters_new = KMeans(n_clusters=3, random_state=0)\n",
        "new_predict=clusters_new.fit_predict(scaled_Univ_df)"
      ],
      "metadata": {
        "id": "b4eZby5m4ODF"
      },
      "execution_count": null,
      "outputs": []
    },
    {
      "cell_type": "code",
      "source": [
        "clusters_new.labels_"
      ],
      "metadata": {
        "id": "vY8cUJeU4Y9A"
      },
      "execution_count": null,
      "outputs": []
    },
    {
      "cell_type": "code",
      "metadata": {
        "id": "YwLOdIU6DbZ_"
      },
      "source": [
        "#Assign clusters to the data set\n",
        "#Univ['clusterid_new'] = clusters_new.labels_\n",
        "Univ['clusterid_new'] = new_predict"
      ],
      "execution_count": null,
      "outputs": []
    },
    {
      "cell_type": "code",
      "source": [
        "Univ"
      ],
      "metadata": {
        "id": "xK4U6cAtAqEE"
      },
      "execution_count": null,
      "outputs": []
    },
    {
      "cell_type": "code",
      "metadata": {
        "id": "wMThosCHDbZ_"
      },
      "source": [
        "#these are standardized values.\n",
        "clusters_new.cluster_centers_"
      ],
      "execution_count": null,
      "outputs": []
    },
    {
      "cell_type": "code",
      "metadata": {
        "scrolled": true,
        "id": "B9oA5qixDbaA"
      },
      "source": [
        "Univ.groupby('clusterid_new').agg(['mean']).reset_index()\n"
      ],
      "execution_count": null,
      "outputs": []
    },
    {
      "cell_type": "code",
      "metadata": {
        "id": "LTxnJHnXDbaA"
      },
      "source": [
        "Univ[Univ['clusterid_new']==0]"
      ],
      "execution_count": null,
      "outputs": []
    },
    {
      "cell_type": "code",
      "source": [
        "Univ[Univ['clusterid_new']==0].shape[0]"
      ],
      "metadata": {
        "colab": {
          "base_uri": "https://localhost:8080/"
        },
        "id": "FZkiSz1-Ugll",
        "outputId": "6fee1271-0fad-4094-da35-a28bdf1f020b"
      },
      "execution_count": null,
      "outputs": [
        {
          "output_type": "execute_result",
          "data": {
            "text/plain": [
              "9"
            ]
          },
          "metadata": {},
          "execution_count": 19
        }
      ]
    },
    {
      "cell_type": "code",
      "metadata": {
        "id": "aYlm-ShKDbaB"
      },
      "source": [
        "Univ[Univ['clusterid_new']==2]"
      ],
      "execution_count": null,
      "outputs": []
    },
    {
      "cell_type": "code",
      "source": [
        "Univ[Univ['clusterid_new']==1]"
      ],
      "metadata": {
        "id": "KyyZL4Nr0uDR"
      },
      "execution_count": null,
      "outputs": []
    }
  ]
}