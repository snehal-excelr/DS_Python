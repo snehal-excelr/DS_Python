{
  "cells": [
    {
      "cell_type": "code",
      "execution_count": null,
      "metadata": {
        "id": "TUbiSTSFeQ-5"
      },
      "outputs": [],
      "source": [
        "import pandas as pd\n",
        "import numpy as np\n",
        "\n",
        "import warnings\n",
        "warnings.filterwarnings('ignore')"
      ]
    },
    {
      "cell_type": "code",
      "execution_count": null,
      "metadata": {
        "id": "AnMOpzmyeQ_E"
      },
      "outputs": [],
      "source": [
        "beml_df = pd.read_csv(\"BEML.csv\")\n",
        "beml_df.head()"
      ]
    },
    {
      "cell_type": "code",
      "execution_count": null,
      "metadata": {
        "id": "TumB0_BreQ_H"
      },
      "outputs": [],
      "source": [
        "glaxo_df = pd.read_csv(\"GLAXO.csv\")\n",
        "glaxo_df.head()"
      ]
    },
    {
      "cell_type": "code",
      "execution_count": null,
      "metadata": {
        "id": "gJ5MhIy9eQ_J"
      },
      "outputs": [],
      "source": [
        "beml_df = beml_df[['Date', 'Close']]\n",
        "glaxo_df = glaxo_df[['Date', 'Close']]"
      ]
    },
    {
      "cell_type": "code",
      "execution_count": null,
      "metadata": {
        "id": "RjDrMXwFeQ_L",
        "colab": {
          "base_uri": "https://localhost:8080/",
          "height": 423
        },
        "outputId": "e287f1bf-235b-4de9-ecc7-5d7a3dfec693"
      },
      "outputs": [
        {
          "output_type": "execute_result",
          "data": {
            "text/plain": [
              "            Date    Close\n",
              "0     2010-01-04  1135.60\n",
              "1     2010-01-05  1134.60\n",
              "2     2010-01-06  1139.60\n",
              "3     2010-01-07  1144.15\n",
              "4     2010-01-08  1144.05\n",
              "...          ...      ...\n",
              "1734  2016-12-26   950.25\n",
              "1735  2016-12-27   975.70\n",
              "1736  2016-12-28   974.40\n",
              "1737  2016-12-29   986.05\n",
              "1738  2016-12-30  1000.60\n",
              "\n",
              "[1739 rows x 2 columns]"
            ],
            "text/html": [
              "\n",
              "  <div id=\"df-729b47a2-240f-4dde-9fc2-2b4d7fb3dc5c\">\n",
              "    <div class=\"colab-df-container\">\n",
              "      <div>\n",
              "<style scoped>\n",
              "    .dataframe tbody tr th:only-of-type {\n",
              "        vertical-align: middle;\n",
              "    }\n",
              "\n",
              "    .dataframe tbody tr th {\n",
              "        vertical-align: top;\n",
              "    }\n",
              "\n",
              "    .dataframe thead th {\n",
              "        text-align: right;\n",
              "    }\n",
              "</style>\n",
              "<table border=\"1\" class=\"dataframe\">\n",
              "  <thead>\n",
              "    <tr style=\"text-align: right;\">\n",
              "      <th></th>\n",
              "      <th>Date</th>\n",
              "      <th>Close</th>\n",
              "    </tr>\n",
              "  </thead>\n",
              "  <tbody>\n",
              "    <tr>\n",
              "      <th>0</th>\n",
              "      <td>2010-01-04</td>\n",
              "      <td>1135.60</td>\n",
              "    </tr>\n",
              "    <tr>\n",
              "      <th>1</th>\n",
              "      <td>2010-01-05</td>\n",
              "      <td>1134.60</td>\n",
              "    </tr>\n",
              "    <tr>\n",
              "      <th>2</th>\n",
              "      <td>2010-01-06</td>\n",
              "      <td>1139.60</td>\n",
              "    </tr>\n",
              "    <tr>\n",
              "      <th>3</th>\n",
              "      <td>2010-01-07</td>\n",
              "      <td>1144.15</td>\n",
              "    </tr>\n",
              "    <tr>\n",
              "      <th>4</th>\n",
              "      <td>2010-01-08</td>\n",
              "      <td>1144.05</td>\n",
              "    </tr>\n",
              "    <tr>\n",
              "      <th>...</th>\n",
              "      <td>...</td>\n",
              "      <td>...</td>\n",
              "    </tr>\n",
              "    <tr>\n",
              "      <th>1734</th>\n",
              "      <td>2016-12-26</td>\n",
              "      <td>950.25</td>\n",
              "    </tr>\n",
              "    <tr>\n",
              "      <th>1735</th>\n",
              "      <td>2016-12-27</td>\n",
              "      <td>975.70</td>\n",
              "    </tr>\n",
              "    <tr>\n",
              "      <th>1736</th>\n",
              "      <td>2016-12-28</td>\n",
              "      <td>974.40</td>\n",
              "    </tr>\n",
              "    <tr>\n",
              "      <th>1737</th>\n",
              "      <td>2016-12-29</td>\n",
              "      <td>986.05</td>\n",
              "    </tr>\n",
              "    <tr>\n",
              "      <th>1738</th>\n",
              "      <td>2016-12-30</td>\n",
              "      <td>1000.60</td>\n",
              "    </tr>\n",
              "  </tbody>\n",
              "</table>\n",
              "<p>1739 rows × 2 columns</p>\n",
              "</div>\n",
              "      <button class=\"colab-df-convert\" onclick=\"convertToInteractive('df-729b47a2-240f-4dde-9fc2-2b4d7fb3dc5c')\"\n",
              "              title=\"Convert this dataframe to an interactive table.\"\n",
              "              style=\"display:none;\">\n",
              "        \n",
              "  <svg xmlns=\"http://www.w3.org/2000/svg\" height=\"24px\"viewBox=\"0 0 24 24\"\n",
              "       width=\"24px\">\n",
              "    <path d=\"M0 0h24v24H0V0z\" fill=\"none\"/>\n",
              "    <path d=\"M18.56 5.44l.94 2.06.94-2.06 2.06-.94-2.06-.94-.94-2.06-.94 2.06-2.06.94zm-11 1L8.5 8.5l.94-2.06 2.06-.94-2.06-.94L8.5 2.5l-.94 2.06-2.06.94zm10 10l.94 2.06.94-2.06 2.06-.94-2.06-.94-.94-2.06-.94 2.06-2.06.94z\"/><path d=\"M17.41 7.96l-1.37-1.37c-.4-.4-.92-.59-1.43-.59-.52 0-1.04.2-1.43.59L10.3 9.45l-7.72 7.72c-.78.78-.78 2.05 0 2.83L4 21.41c.39.39.9.59 1.41.59.51 0 1.02-.2 1.41-.59l7.78-7.78 2.81-2.81c.8-.78.8-2.07 0-2.86zM5.41 20L4 18.59l7.72-7.72 1.47 1.35L5.41 20z\"/>\n",
              "  </svg>\n",
              "      </button>\n",
              "      \n",
              "  <style>\n",
              "    .colab-df-container {\n",
              "      display:flex;\n",
              "      flex-wrap:wrap;\n",
              "      gap: 12px;\n",
              "    }\n",
              "\n",
              "    .colab-df-convert {\n",
              "      background-color: #E8F0FE;\n",
              "      border: none;\n",
              "      border-radius: 50%;\n",
              "      cursor: pointer;\n",
              "      display: none;\n",
              "      fill: #1967D2;\n",
              "      height: 32px;\n",
              "      padding: 0 0 0 0;\n",
              "      width: 32px;\n",
              "    }\n",
              "\n",
              "    .colab-df-convert:hover {\n",
              "      background-color: #E2EBFA;\n",
              "      box-shadow: 0px 1px 2px rgba(60, 64, 67, 0.3), 0px 1px 3px 1px rgba(60, 64, 67, 0.15);\n",
              "      fill: #174EA6;\n",
              "    }\n",
              "\n",
              "    [theme=dark] .colab-df-convert {\n",
              "      background-color: #3B4455;\n",
              "      fill: #D2E3FC;\n",
              "    }\n",
              "\n",
              "    [theme=dark] .colab-df-convert:hover {\n",
              "      background-color: #434B5C;\n",
              "      box-shadow: 0px 1px 3px 1px rgba(0, 0, 0, 0.15);\n",
              "      filter: drop-shadow(0px 1px 2px rgba(0, 0, 0, 0.3));\n",
              "      fill: #FFFFFF;\n",
              "    }\n",
              "  </style>\n",
              "\n",
              "      <script>\n",
              "        const buttonEl =\n",
              "          document.querySelector('#df-729b47a2-240f-4dde-9fc2-2b4d7fb3dc5c button.colab-df-convert');\n",
              "        buttonEl.style.display =\n",
              "          google.colab.kernel.accessAllowed ? 'block' : 'none';\n",
              "\n",
              "        async function convertToInteractive(key) {\n",
              "          const element = document.querySelector('#df-729b47a2-240f-4dde-9fc2-2b4d7fb3dc5c');\n",
              "          const dataTable =\n",
              "            await google.colab.kernel.invokeFunction('convertToInteractive',\n",
              "                                                     [key], {});\n",
              "          if (!dataTable) return;\n",
              "\n",
              "          const docLinkHtml = 'Like what you see? Visit the ' +\n",
              "            '<a target=\"_blank\" href=https://colab.research.google.com/notebooks/data_table.ipynb>data table notebook</a>'\n",
              "            + ' to learn more about interactive tables.';\n",
              "          element.innerHTML = '';\n",
              "          dataTable['output_type'] = 'display_data';\n",
              "          await google.colab.output.renderOutput(dataTable, element);\n",
              "          const docLink = document.createElement('div');\n",
              "          docLink.innerHTML = docLinkHtml;\n",
              "          element.appendChild(docLink);\n",
              "        }\n",
              "      </script>\n",
              "    </div>\n",
              "  </div>\n",
              "  "
            ]
          },
          "metadata": {},
          "execution_count": 9
        }
      ],
      "source": [
        "beml_df"
      ]
    },
    {
      "cell_type": "code",
      "source": [
        "glaxo_df"
      ],
      "metadata": {
        "id": "SUPOvmUEJLEy"
      },
      "execution_count": null,
      "outputs": []
    },
    {
      "cell_type": "code",
      "source": [
        "beml_df.dtypes"
      ],
      "metadata": {
        "colab": {
          "base_uri": "https://localhost:8080/"
        },
        "id": "q8u12AQbP8a0",
        "outputId": "52d3f71a-32ca-41e6-a23b-905bbe934760"
      },
      "execution_count": null,
      "outputs": [
        {
          "output_type": "execute_result",
          "data": {
            "text/plain": [
              "Date      object\n",
              "Close    float64\n",
              "dtype: object"
            ]
          },
          "metadata": {},
          "execution_count": 7
        }
      ]
    },
    {
      "cell_type": "code",
      "source": [
        "glaxo_df.dtypes"
      ],
      "metadata": {
        "colab": {
          "base_uri": "https://localhost:8080/"
        },
        "id": "yEAkfoMyJjX7",
        "outputId": "1b88c560-0ee0-4f0e-ce04-b717932d607c"
      },
      "execution_count": null,
      "outputs": [
        {
          "output_type": "execute_result",
          "data": {
            "text/plain": [
              "Date      object\n",
              "Close    float64\n",
              "dtype: object"
            ]
          },
          "metadata": {},
          "execution_count": 8
        }
      ]
    },
    {
      "cell_type": "code",
      "execution_count": null,
      "metadata": {
        "id": "9vBebEeseQ_N"
      },
      "outputs": [],
      "source": [
        "'''The DataFrames have a date column, so we can\n",
        "create a DatetimeIndex index from this column Date. It will ensure that the rows are sorted by time in\n",
        "ascending order.'''\n",
        "glaxo_df = glaxo_df.set_index(pd.DatetimeIndex(glaxo_df['Date']))\n",
        "beml_df = beml_df.set_index(pd.DatetimeIndex(beml_df['Date']))"
      ]
    },
    {
      "cell_type": "code",
      "execution_count": null,
      "metadata": {
        "id": "OPxq9MRpWoEQ"
      },
      "outputs": [],
      "source": [
        "beml_df.head() # now date col is acting as an index"
      ]
    },
    {
      "cell_type": "code",
      "execution_count": null,
      "metadata": {
        "id": "eFBKd5KaWYtr"
      },
      "outputs": [],
      "source": [
        "glaxo_df.head()"
      ]
    },
    {
      "cell_type": "code",
      "execution_count": null,
      "metadata": {
        "id": "JdVLGz2OeQ_P"
      },
      "outputs": [],
      "source": [
        "import matplotlib.pyplot as plt\n",
        "import seaborn as sn\n",
        "plt.plot(glaxo_df.Close)\n",
        "plt.xlabel('Time')\n",
        "plt.ylabel('Close Price')"
      ]
    },
    {
      "cell_type": "code",
      "execution_count": null,
      "metadata": {
        "id": "3Q_hex19eQ_S"
      },
      "outputs": [],
      "source": [
        "plt.plot(beml_df.Close);\n",
        "plt.xlabel('Time');\n",
        "plt.ylabel('Close');"
      ]
    },
    {
      "cell_type": "code",
      "execution_count": null,
      "metadata": {
        "id": "pbC5G6E3eQ_V"
      },
      "outputs": [],
      "source": [
        "glaxo_df['gain'] = glaxo_df.Close.pct_change(periods = 1)\n",
        "beml_df['gain'] = beml_df.Close.pct_change(periods = 1)"
      ]
    },
    {
      "cell_type": "code",
      "execution_count": null,
      "metadata": {
        "id": "zxMxPdrqJzWB"
      },
      "outputs": [],
      "source": [
        "glaxo_df"
      ]
    },
    {
      "cell_type": "code",
      "source": [
        "beml_df"
      ],
      "metadata": {
        "id": "jvDChi-3N52z"
      },
      "execution_count": null,
      "outputs": []
    },
    {
      "cell_type": "code",
      "execution_count": null,
      "metadata": {
        "id": "VMyWvGUleQ_X"
      },
      "outputs": [],
      "source": [
        "#drop first row since it is NaN\n",
        "glaxo_df = glaxo_df.dropna()\n",
        "beml_df = beml_df.dropna()"
      ]
    },
    {
      "cell_type": "code",
      "source": [
        "glaxo_df"
      ],
      "metadata": {
        "id": "YLTbMUFVvAdE"
      },
      "execution_count": null,
      "outputs": []
    },
    {
      "cell_type": "code",
      "source": [
        "beml_df"
      ],
      "metadata": {
        "id": "41lzgXjePzMK"
      },
      "execution_count": null,
      "outputs": []
    },
    {
      "cell_type": "code",
      "execution_count": null,
      "metadata": {
        "id": "Ik8xNPlaeQ_Z"
      },
      "outputs": [],
      "source": [
        "#Plot the gains\n",
        "plt.figure(figsize = (8, 5))\n",
        "plt.plot(glaxo_df.gain)\n",
        "plt.xlabel('Time')\n",
        "plt.ylabel('gain')"
      ]
    },
    {
      "cell_type": "code",
      "source": [
        "plt.figure(figsize = (8, 5))\n",
        "plt.plot(beml_df.gain)\n",
        "plt.xlabel('Time')\n",
        "plt.ylabel('gain')"
      ],
      "metadata": {
        "id": "Q7Il_pT12Ky3"
      },
      "execution_count": null,
      "outputs": []
    },
    {
      "cell_type": "code",
      "execution_count": null,
      "metadata": {
        "id": "78LDPK_deQ_b",
        "colab": {
          "base_uri": "https://localhost:8080/",
          "height": 387
        },
        "outputId": "8edd80d0-fda0-4b03-c87e-092b3d4e9a76"
      },
      "outputs": [
        {
          "output_type": "execute_result",
          "data": {
            "text/plain": [
              "Text(0, 0.5, 'Density')"
            ]
          },
          "metadata": {},
          "execution_count": 29
        },
        {
          "output_type": "display_data",
          "data": {
            "text/plain": [
              "<Figure size 720x360 with 2 Axes>"
            ],
            "image/png": "[encoded data removed]"
          },
          "metadata": {
            "needs_background": "light"
          }
        }
      ],
      "source": [
        "plt.figure(figsize=(10,5))\n",
        "plt.subplot(1,2,1)\n",
        "plt.suptitle('Distribution',fontsize=15)\n",
        "\n",
        "sn.distplot(glaxo_df.gain, label = 'Glaxo')\n",
        "\n",
        "plt.xlabel('gain')\n",
        "plt.ylabel('Density')\n",
        "\n",
        "plt.subplot(1,2,2)\n",
        "sn.distplot(beml_df.gain, label = 'BEML')\n",
        "\n",
        "plt.xlabel('gain')\n",
        "plt.ylabel('Density')"
      ]
    },
    {
      "cell_type": "code",
      "execution_count": null,
      "metadata": {
        "id": "vFg60v1zeQ_f",
        "colab": {
          "base_uri": "https://localhost:8080/"
        },
        "outputId": "50fc43e4-5220-49b7-b9e0-fb17bab6bd59"
      },
      "outputs": [
        {
          "output_type": "stream",
          "name": "stdout",
          "text": [
            "Mean: 0.0004\n",
            "Standard Deviation:  0.0134\n"
          ]
        }
      ],
      "source": [
        "print('Mean:', round(glaxo_df.gain.mean(), 4))\n",
        "print('Standard Deviation: ', round(glaxo_df.gain.std(), 4))"
      ]
    },
    {
      "cell_type": "code",
      "execution_count": null,
      "metadata": {
        "id": "3WzumF2AeQ_g",
        "colab": {
          "base_uri": "https://localhost:8080/"
        },
        "outputId": "8de7cb23-8bc5-445d-ac3b-dd749a24eee9"
      },
      "outputs": [
        {
          "output_type": "stream",
          "name": "stdout",
          "text": [
            "Mean:  0.0003\n",
            "Standard Deviation:  0.0264\n"
          ]
        }
      ],
      "source": [
        "print('Mean: ', round(beml_df.gain.mean(), 4))\n",
        "print('Standard Deviation: ', round(beml_df.gain.std(), 4))"
      ]
    },
    {
      "cell_type": "code",
      "execution_count": null,
      "metadata": {
        "id": "JHYKccrCeQ_h",
        "colab": {
          "base_uri": "https://localhost:8080/"
        },
        "outputId": "a612fc99-cac9-493b-cfa6-c477dfaf6e05"
      },
      "outputs": [
        {
          "output_type": "execute_result",
          "data": {
            "text/plain": [
              "0.06395593743937553"
            ]
          },
          "metadata": {},
          "execution_count": 30
        }
      ],
      "source": [
        "from scipy import stats\n",
        "# import scipy\n",
        "#Probability of making 2% loss or higher in Glaxo - left of 0 i.e.e -0.02\n",
        "stats.norm.cdf(-0.02,0.0004, 0.0134)\n",
        "#loc=glaxo_df.gain.mean(),\n",
        "#scale=glaxo_df.gain.std()) # there are 6% of chances having 2% or higher loss"
      ]
    },
    {
      "cell_type": "code",
      "execution_count": null,
      "metadata": {
        "id": "9z5RjFTVeQ_i",
        "colab": {
          "base_uri": "https://localhost:8080/"
        },
        "outputId": "2c0c636c-a32c-4172-ee42-b6ec38bfb9a1"
      },
      "outputs": [
        {
          "output_type": "execute_result",
          "data": {
            "text/plain": [
              "0.07177658173190637"
            ]
          },
          "metadata": {},
          "execution_count": 31
        }
      ],
      "source": [
        "#Probability of making 2% gain or higher in Glaxo - to the right of 0.02\n",
        "1 - stats.norm.cdf(0.02,0.0004, 0.0134) # 7% chances of having at least 2% or higher gain, Glaxo seems safer than BEML\n"
      ]
    },
    {
      "cell_type": "markdown",
      "metadata": {
        "id": "e9ztAiy6eQ_j"
      },
      "source": [
        "### Inclass Exercise"
      ]
    },
    {
      "cell_type": "markdown",
      "metadata": {
        "id": "id2fv20ceQ_m"
      },
      "source": [
        "### Compute 2% loss or gain for BEML"
      ]
    },
    {
      "cell_type": "code",
      "execution_count": null,
      "metadata": {
        "id": "ufXA5SqZeQ_m",
        "colab": {
          "base_uri": "https://localhost:8080/"
        },
        "outputId": "8065f22e-21f5-4a72-c83e-5338de733c13"
      },
      "outputs": [
        {
          "output_type": "execute_result",
          "data": {
            "text/plain": [
              "0.22155987503755292"
            ]
          },
          "metadata": {},
          "execution_count": 35
        }
      ],
      "source": [
        "stats.norm.cdf( -0.02,\n",
        "loc=beml_df.gain.mean(),\n",
        "scale=beml_df.gain.std())"
      ]
    },
    {
      "cell_type": "code",
      "execution_count": null,
      "metadata": {
        "id": "vAk2SRjLeQ_r",
        "colab": {
          "base_uri": "https://localhost:8080/"
        },
        "outputId": "2e016352-4d89-4660-c430-6f92d8e9e6e9"
      },
      "outputs": [
        {
          "output_type": "execute_result",
          "data": {
            "text/plain": [
              "0.22769829484075355"
            ]
          },
          "metadata": {},
          "execution_count": 36
        }
      ],
      "source": [
        "#Probability of making 2% gain or higher in BEML\n",
        "1 - stats.norm.cdf(0.02,\n",
        "loc=beml_df.gain.mean(),\n",
        "scale=beml_df.gain.std())"
      ]
    }
  ],
  "metadata": {
    "colab": {
      "provenance": []
    },
    "kernelspec": {
      "display_name": "Python 3",
      "language": "python",
      "name": "python3"
    },
    "language_info": {
      "codemirror_mode": {
        "name": "ipython",
        "version": 3
      },
      "file_extension": ".py",
      "mimetype": "text/x-python",
      "name": "python",
      "nbconvert_exporter": "python",
      "pygments_lexer": "ipython3",
      "version": "3.7.4"
    }
  },
  "nbformat": 4,
  "nbformat_minor": 0
}